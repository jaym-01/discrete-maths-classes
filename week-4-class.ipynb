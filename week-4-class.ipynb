{
 "cells": [
  {
   "cell_type": "markdown",
   "id": "fee8644f",
   "metadata": {},
   "source": [
    "# Week 4 Class\n",
    "\n",
    "1. Rewrite the merge sort code, adding assertions to check that the loop invariant is satisfied.\n",
    "2. Write code to sum the value in an array. Find a loop invariant for your code, and use it to prove that your code correctly sums those values."
   ]
  },
  {
   "cell_type": "markdown",
   "id": "1e44e3b2",
   "metadata": {},
   "source": [
    "## Note on assertions\n",
    "\n",
    "In case you are not familiar, an [assertion](https://en.wikipedia.org/wiki/Assertion_(software_development)) is a debugging technique that can be used in any programming language used to catch bugs that might not result in the code raising an error, but might lead to the code giving incorrect results. In Python, you use the ``assert <condition>`` statement to say that at this point in the program, the ``<condition>`` must be true otherwise something has gone wrong. Python will evaluate ``<condition>`` and if it evaluates to ``True``, do nothing, but if it evaluates to ``False`` it will raise an error. Assertions are only evaluated in debug mode (the default on Python), so that in production code they have no computational cost.\n",
    "\n",
    "Here's two examples to demonstrate what this looks like in Python."
   ]
  },
  {
   "cell_type": "code",
   "execution_count": 1,
   "id": "9add2f18",
   "metadata": {},
   "outputs": [
    {
     "data": {
      "text/plain": [
       "2"
      ]
     },
     "execution_count": 1,
     "metadata": {},
     "output_type": "execute_result"
    }
   ],
   "source": [
    "def exactly_half_of(x):\n",
    "    assert x%2==0 # can only return exactly half if it's divisible by 2\n",
    "    return x//2 # integer division\n",
    "\n",
    "exactly_half_of(4) # runs fine, assertion is True"
   ]
  },
  {
   "cell_type": "code",
   "execution_count": 2,
   "id": "fd73edfe",
   "metadata": {},
   "outputs": [
    {
     "ename": "AssertionError",
     "evalue": "",
     "output_type": "error",
     "traceback": [
      "\u001b[1;31m---------------------------------------------------------------------------\u001b[0m",
      "\u001b[1;31mAssertionError\u001b[0m                            Traceback (most recent call last)",
      "Input \u001b[1;32mIn [2]\u001b[0m, in \u001b[0;36m<cell line: 1>\u001b[1;34m()\u001b[0m\n\u001b[1;32m----> 1\u001b[0m \u001b[43mexactly_half_of\u001b[49m\u001b[43m(\u001b[49m\u001b[38;5;241;43m3\u001b[39;49m\u001b[43m)\u001b[49m\n",
      "Input \u001b[1;32mIn [1]\u001b[0m, in \u001b[0;36mexactly_half_of\u001b[1;34m(x)\u001b[0m\n\u001b[0;32m      1\u001b[0m \u001b[38;5;28;01mdef\u001b[39;00m \u001b[38;5;21mexactly_half_of\u001b[39m(x):\n\u001b[1;32m----> 2\u001b[0m     \u001b[38;5;28;01massert\u001b[39;00m x\u001b[38;5;241m%\u001b[39m\u001b[38;5;241m2\u001b[39m\u001b[38;5;241m==\u001b[39m\u001b[38;5;241m0\u001b[39m \u001b[38;5;66;03m# can only return exactly half if it's divisible by 2\u001b[39;00m\n\u001b[0;32m      3\u001b[0m     \u001b[38;5;28;01mreturn\u001b[39;00m x\u001b[38;5;241m/\u001b[39m\u001b[38;5;241m/\u001b[39m\u001b[38;5;241m2\u001b[39m\n",
      "\u001b[1;31mAssertionError\u001b[0m: "
     ]
    }
   ],
   "source": [
    "exactly_half_of(3) # raises an AssertionError because 3 is not divisible by 2"
   ]
  },
  {
   "cell_type": "markdown",
   "id": "0dd6e3d0",
   "metadata": {},
   "source": [
    "Why might you want to use this? Well, just imagine in the code above if you didn't have an assertion and you did something like this (contrived example):"
   ]
  },
  {
   "cell_type": "code",
   "execution_count": 3,
   "id": "16cecdd9",
   "metadata": {},
   "outputs": [
    {
     "name": "stdout",
     "output_type": "stream",
     "text": [
      "3\n"
     ]
    }
   ],
   "source": [
    "def half_of(n):\n",
    "    return n//2 # integer division\n",
    "\n",
    "def crazy_sum(X):\n",
    "    n = len(X)\n",
    "    half_n = half_of(n)\n",
    "    left_sum = sum(X[0:half_n])\n",
    "    right_sum = sum(X[half_n:2*half_n])\n",
    "    return left_sum+right_sum\n",
    "\n",
    "print(crazy_sum([1,2,3]))"
   ]
  },
  {
   "cell_type": "markdown",
   "id": "82bec6fb",
   "metadata": {},
   "source": [
    "You can see here that the sum returns 3 when you probably intended it to return 6. Your code has a bug but you don't get an error. If you had done the same thing with an assertion, it would raise an error and so you'd discover that your code had a hidden assumption that n is even."
   ]
  },
  {
   "cell_type": "code",
   "execution_count": 4,
   "id": "3354b1a9",
   "metadata": {},
   "outputs": [
    {
     "ename": "AssertionError",
     "evalue": "",
     "output_type": "error",
     "traceback": [
      "\u001b[1;31m---------------------------------------------------------------------------\u001b[0m",
      "\u001b[1;31mAssertionError\u001b[0m                            Traceback (most recent call last)",
      "Input \u001b[1;32mIn [4]\u001b[0m, in \u001b[0;36m<cell line: 12>\u001b[1;34m()\u001b[0m\n\u001b[0;32m      9\u001b[0m     right_sum \u001b[38;5;241m=\u001b[39m \u001b[38;5;28msum\u001b[39m(X[half_n:\u001b[38;5;241m2\u001b[39m\u001b[38;5;241m*\u001b[39mhalf_n])\n\u001b[0;32m     10\u001b[0m     \u001b[38;5;28;01mreturn\u001b[39;00m left_sum\u001b[38;5;241m+\u001b[39mright_sum\n\u001b[1;32m---> 12\u001b[0m \u001b[38;5;28mprint\u001b[39m(\u001b[43mcrazy_sum\u001b[49m\u001b[43m(\u001b[49m\u001b[43m[\u001b[49m\u001b[38;5;241;43m1\u001b[39;49m\u001b[43m,\u001b[49m\u001b[38;5;241;43m2\u001b[39;49m\u001b[43m,\u001b[49m\u001b[38;5;241;43m3\u001b[39;49m\u001b[43m]\u001b[49m\u001b[43m)\u001b[49m)\n",
      "Input \u001b[1;32mIn [4]\u001b[0m, in \u001b[0;36mcrazy_sum\u001b[1;34m(X)\u001b[0m\n\u001b[0;32m      5\u001b[0m \u001b[38;5;28;01mdef\u001b[39;00m \u001b[38;5;21mcrazy_sum\u001b[39m(X):\n\u001b[0;32m      6\u001b[0m     n \u001b[38;5;241m=\u001b[39m \u001b[38;5;28mlen\u001b[39m(X)\n\u001b[1;32m----> 7\u001b[0m     half_n \u001b[38;5;241m=\u001b[39m \u001b[43mhalf_of\u001b[49m\u001b[43m(\u001b[49m\u001b[43mn\u001b[49m\u001b[43m)\u001b[49m\n\u001b[0;32m      8\u001b[0m     left_sum \u001b[38;5;241m=\u001b[39m \u001b[38;5;28msum\u001b[39m(X[\u001b[38;5;241m0\u001b[39m:half_n])\n\u001b[0;32m      9\u001b[0m     right_sum \u001b[38;5;241m=\u001b[39m \u001b[38;5;28msum\u001b[39m(X[half_n:\u001b[38;5;241m2\u001b[39m\u001b[38;5;241m*\u001b[39mhalf_n])\n",
      "Input \u001b[1;32mIn [4]\u001b[0m, in \u001b[0;36mhalf_of\u001b[1;34m(n)\u001b[0m\n\u001b[0;32m      1\u001b[0m \u001b[38;5;28;01mdef\u001b[39;00m \u001b[38;5;21mhalf_of\u001b[39m(n):\n\u001b[1;32m----> 2\u001b[0m     \u001b[38;5;28;01massert\u001b[39;00m n\u001b[38;5;241m%\u001b[39m\u001b[38;5;241m2\u001b[39m\u001b[38;5;241m==\u001b[39m\u001b[38;5;241m0\u001b[39m\n\u001b[0;32m      3\u001b[0m     \u001b[38;5;28;01mreturn\u001b[39;00m n\u001b[38;5;241m/\u001b[39m\u001b[38;5;241m/\u001b[39m\u001b[38;5;241m2\u001b[39m\n",
      "\u001b[1;31mAssertionError\u001b[0m: "
     ]
    }
   ],
   "source": [
    "def half_of(n):\n",
    "    assert n%2==0\n",
    "    return n//2 # integer division\n",
    "\n",
    "def crazy_sum(X):\n",
    "    n = len(X)\n",
    "    half_n = half_of(n)\n",
    "    left_sum = sum(X[0:half_n])\n",
    "    right_sum = sum(X[half_n:2*half_n])\n",
    "    return left_sum+right_sum\n",
    "\n",
    "print(crazy_sum([1,2,3]))"
   ]
  },
  {
   "cell_type": "code",
   "execution_count": 7,
   "metadata": {},
   "outputs": [
    {
     "name": "stdout",
     "output_type": "stream",
     "text": [
      "[1, 2, 3, 3, 4, 4, 5, 5, 6]\n"
     ]
    }
   ],
   "source": [
    "def merge_sort(x):    \n",
    "    n = len(x)\n",
    "    if(n <= 1):\n",
    "        return x\n",
    "\n",
    "    mid = n // 2\n",
    "    l = merge_sort(x[0:mid])\n",
    "    r = merge_sort(x[mid:n])\n",
    "\n",
    "    li = 0\n",
    "    ri = 0\n",
    "\n",
    "    out = []\n",
    "\n",
    "    while li < len(l) or ri < len(r):\n",
    "        if(ri >= len(r)):\n",
    "            assert len(out) == 0 or out[len(out) - 1] <= l[li]\n",
    "            out.append(l[li])\n",
    "            li += 1\n",
    "        elif (li >= len(l)):\n",
    "            assert len(out) == 0 or out[len(out) - 1] <= r[ri]\n",
    "            out.append(r[ri])\n",
    "            ri += 1\n",
    "        elif(l[li] < r[ri]):\n",
    "            assert len(out) == 0 or out[len(out) - 1] <= l[li]\n",
    "            assert len(out) == 0 or out[len(out) - 1] <= r[ri]\n",
    "            out.append(l[li])\n",
    "            li += 1\n",
    "        else:\n",
    "            assert len(out) == 0 or out[len(out) - 1] <= l[li]\n",
    "            assert len(out) == 0 or out[len(out) - 1] <= r[ri]\n",
    "            out.append(r[ri])\n",
    "            ri += 1\n",
    "\n",
    "    return out\n",
    "\n",
    "print(merge_sort([1, 3, 4, 5, 2, 3, 4, 5, 6]))"
   ]
  },
  {
   "cell_type": "code",
   "execution_count": 3,
   "metadata": {},
   "outputs": [
    {
     "name": "stdout",
     "output_type": "stream",
     "text": [
      "87\n"
     ]
    }
   ],
   "source": [
    "def find_sum(x):\n",
    "    s = 0\n",
    "\n",
    "    for i in range(len(x)):\n",
    "        assert s == sum(x[:i]) \n",
    "        s += x[i]\n",
    "\n",
    "    return s\n",
    "\n",
    "print(find_sum([1, 2,3,4,5,6,3,2,3,45,6,4,3]))"
   ]
  }
 ],
 "metadata": {
  "kernelspec": {
   "display_name": "Python 3 (ipykernel)",
   "language": "python",
   "name": "python3"
  },
  "language_info": {
   "codemirror_mode": {
    "name": "ipython",
    "version": 3
   },
   "file_extension": ".py",
   "mimetype": "text/x-python",
   "name": "python",
   "nbconvert_exporter": "python",
   "pygments_lexer": "ipython3",
   "version": "3.11.5"
  }
 },
 "nbformat": 4,
 "nbformat_minor": 5
}
